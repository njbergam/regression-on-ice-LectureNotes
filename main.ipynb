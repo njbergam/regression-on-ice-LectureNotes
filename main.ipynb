{
 "cells": [
  {
   "cell_type": "markdown",
   "metadata": {},
   "source": [
    "**REGRESSION ON ICE: Function approximation for the mathematically-inclined glaciologist**\n",
    "Noah Bergam\n",
    "\n",
    "Welcome to the the Regression on Ice code demo page. Here are some of the notebooks where we illustrate some of the mathematical ideas outlined in the lecture notes.\n",
    "\n",
    "- [Notebook 1: Basics and Kernel Regression](1-basics.ipynb)\n",
    "- [Notebook 2: Linear Models](2-linear.ipynb)\n",
    "- [Notebook 3: Gaussian Processes](3-gaussian.ipynb)"
   ]
  }
 ],
 "metadata": {
  "language_info": {
   "name": "python"
  },
  "orig_nbformat": 4
 },
 "nbformat": 4,
 "nbformat_minor": 2
}
